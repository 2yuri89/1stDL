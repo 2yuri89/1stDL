{
 "cells": [
  {
   "cell_type": "code",
   "execution_count": 1,
   "metadata": {},
   "outputs": [
    {
     "data": {
      "text/html": [
       "<div>\n",
       "<style scoped>\n",
       "    .dataframe tbody tr th:only-of-type {\n",
       "        vertical-align: middle;\n",
       "    }\n",
       "\n",
       "    .dataframe tbody tr th {\n",
       "        vertical-align: top;\n",
       "    }\n",
       "\n",
       "    .dataframe thead th {\n",
       "        text-align: right;\n",
       "    }\n",
       "</style>\n",
       "<table border=\"1\" class=\"dataframe\">\n",
       "  <thead>\n",
       "    <tr style=\"text-align: right;\">\n",
       "      <th></th>\n",
       "      <th>image</th>\n",
       "      <th>black</th>\n",
       "      <th>blue</th>\n",
       "      <th>brown</th>\n",
       "      <th>green</th>\n",
       "      <th>red</th>\n",
       "      <th>white</th>\n",
       "      <th>dress</th>\n",
       "      <th>shirt</th>\n",
       "      <th>pants</th>\n",
       "      <th>shorts</th>\n",
       "      <th>shoes</th>\n",
       "    </tr>\n",
       "  </thead>\n",
       "  <tbody>\n",
       "    <tr>\n",
       "      <th>0</th>\n",
       "      <td>./clothes_dataset\\blue_shorts\\256d854b55ac32ea...</td>\n",
       "      <td>0.0</td>\n",
       "      <td>1.0</td>\n",
       "      <td>0.0</td>\n",
       "      <td>0.0</td>\n",
       "      <td>0.0</td>\n",
       "      <td>0.0</td>\n",
       "      <td>0.0</td>\n",
       "      <td>0.0</td>\n",
       "      <td>0.0</td>\n",
       "      <td>1.0</td>\n",
       "      <td>0.0</td>\n",
       "    </tr>\n",
       "    <tr>\n",
       "      <th>1</th>\n",
       "      <td>./clothes_dataset\\red_pants\\584f778aece14f07c2...</td>\n",
       "      <td>0.0</td>\n",
       "      <td>0.0</td>\n",
       "      <td>0.0</td>\n",
       "      <td>0.0</td>\n",
       "      <td>1.0</td>\n",
       "      <td>0.0</td>\n",
       "      <td>0.0</td>\n",
       "      <td>0.0</td>\n",
       "      <td>1.0</td>\n",
       "      <td>0.0</td>\n",
       "      <td>0.0</td>\n",
       "    </tr>\n",
       "    <tr>\n",
       "      <th>2</th>\n",
       "      <td>./clothes_dataset\\green_pants\\ec543ca241cefb2b...</td>\n",
       "      <td>0.0</td>\n",
       "      <td>0.0</td>\n",
       "      <td>0.0</td>\n",
       "      <td>1.0</td>\n",
       "      <td>0.0</td>\n",
       "      <td>0.0</td>\n",
       "      <td>0.0</td>\n",
       "      <td>0.0</td>\n",
       "      <td>1.0</td>\n",
       "      <td>0.0</td>\n",
       "      <td>0.0</td>\n",
       "    </tr>\n",
       "    <tr>\n",
       "      <th>3</th>\n",
       "      <td>./clothes_dataset\\brown_shorts\\c8db9e0f7010592...</td>\n",
       "      <td>0.0</td>\n",
       "      <td>0.0</td>\n",
       "      <td>1.0</td>\n",
       "      <td>0.0</td>\n",
       "      <td>0.0</td>\n",
       "      <td>0.0</td>\n",
       "      <td>0.0</td>\n",
       "      <td>0.0</td>\n",
       "      <td>0.0</td>\n",
       "      <td>1.0</td>\n",
       "      <td>0.0</td>\n",
       "    </tr>\n",
       "    <tr>\n",
       "      <th>4</th>\n",
       "      <td>./clothes_dataset\\white_dress\\551373c80717c5b0...</td>\n",
       "      <td>0.0</td>\n",
       "      <td>0.0</td>\n",
       "      <td>0.0</td>\n",
       "      <td>0.0</td>\n",
       "      <td>0.0</td>\n",
       "      <td>1.0</td>\n",
       "      <td>1.0</td>\n",
       "      <td>0.0</td>\n",
       "      <td>0.0</td>\n",
       "      <td>0.0</td>\n",
       "      <td>0.0</td>\n",
       "    </tr>\n",
       "  </tbody>\n",
       "</table>\n",
       "</div>"
      ],
      "text/plain": [
       "                                               image  black  blue  brown  \\\n",
       "0  ./clothes_dataset\\blue_shorts\\256d854b55ac32ea...    0.0   1.0    0.0   \n",
       "1  ./clothes_dataset\\red_pants\\584f778aece14f07c2...    0.0   0.0    0.0   \n",
       "2  ./clothes_dataset\\green_pants\\ec543ca241cefb2b...    0.0   0.0    0.0   \n",
       "3  ./clothes_dataset\\brown_shorts\\c8db9e0f7010592...    0.0   0.0    1.0   \n",
       "4  ./clothes_dataset\\white_dress\\551373c80717c5b0...    0.0   0.0    0.0   \n",
       "\n",
       "   green  red  white  dress  shirt  pants  shorts  shoes  \n",
       "0    0.0  0.0    0.0    0.0    0.0    0.0     1.0    0.0  \n",
       "1    0.0  1.0    0.0    0.0    0.0    1.0     0.0    0.0  \n",
       "2    1.0  0.0    0.0    0.0    0.0    1.0     0.0    0.0  \n",
       "3    0.0  0.0    0.0    0.0    0.0    0.0     1.0    0.0  \n",
       "4    0.0  0.0    1.0    1.0    0.0    0.0     0.0    0.0  "
      ]
     },
     "execution_count": 1,
     "metadata": {},
     "output_type": "execute_result"
    }
   ],
   "source": [
    "# 데이터 불러오기\n",
    "import pandas as pd\n",
    "\n",
    "DATA_PATH = 'C:/Work/1stDL/Roadbook_DeepLearning-master/TF_2.5v/code/clothes_classification/csv_data/nocolorinfo'\n",
    "\n",
    "train_df = pd.read_csv(DATA_PATH + '/train.csv')\n",
    "val_df = pd.read_csv(DATA_PATH + '/val.csv')\n",
    "test_df = pd.read_csv(DATA_PATH + '/test.csv')\n",
    "\n",
    "train_df.head()"
   ]
  },
  {
   "cell_type": "code",
   "execution_count": 2,
   "metadata": {},
   "outputs": [
    {
     "name": "stderr",
     "output_type": "stream",
     "text": [
      "C:\\Users\\human\\AppData\\Roaming\\Python\\Python312\\site-packages\\keras\\src\\layers\\reshaping\\flatten.py:37: UserWarning: Do not pass an `input_shape`/`input_dim` argument to a layer. When using Sequential models, prefer using an `Input(shape)` object as the first layer in the model instead.\n",
      "  super().__init__(**kwargs)\n"
     ]
    }
   ],
   "source": [
    "# 이미지 제네레이터 정의 및 모델 구성하기\n",
    "\n",
    "from tensorflow.keras.preprocessing.image import ImageDataGenerator\n",
    "# 이미지 제네레이터를 정의합니다.\n",
    "train_datagen = ImageDataGenerator(rescale = 1./255)\n",
    "val_datagen = ImageDataGenerator(rescale = 1./255)\n",
    "\n",
    "def get_steps(num_samples, batch_size):\n",
    "    if (num_samples % batch_size) > 0 :\n",
    "        return (num_samples // batch_size) + 1\n",
    "    else:\n",
    "        return num_samples // batch_size\n",
    "    \n",
    "from tensorflow.keras.models import Sequential\n",
    "from tensorflow.keras.layers import Dense, Flatten\n",
    "\n",
    "model = Sequential()\n",
    "# 입력 데이터의 형태를 꼭 명시해야 합니다.\n",
    "model.add(Flatten(input_shape = (112, 112, 3)))     # (112, 112, 3) -> (112 * 112 * 3)\n",
    "model.add(Dense(128, activation = 'relu'))          # 128개의 출력을 가지는 Dense층 \n",
    "model.add(Dense(64, activation = 'relu'))           # 64개의 출력을 가지는 Dense층\n",
    "model.add(Dense(11, activation = 'sigmoid'))        # 11개의 출력을 가지는 신경망\n",
    "\n",
    "model.compile(optimizer = 'adam', loss='binary_crossentropy', metrics = ['acc'])\n"
   ]
  },
  {
   "cell_type": "code",
   "execution_count": 33,
   "metadata": {},
   "outputs": [
    {
     "name": "stdout",
     "output_type": "stream",
     "text": [
      "Found 5578 validated image filenames.\n",
      "Found 2391 validated image filenames.\n"
     ]
    }
   ],
   "source": [
    "# 데이터 제네레이터 정의하기\n",
    "batch_size = 32\n",
    "class_col = ['black', 'blue', 'brown', 'green', 'red', 'white', 'dress', 'shirt', 'pants', 'shorts', 'shoes']\n",
    "\n",
    "# Make Generator\n",
    "train_generator = train_datagen.flow_from_dataframe(\n",
    "    dataframe=train_df,\n",
    "    directory='../../Roadbook_DeepLearning-master/TF_2.5v/code/clothes_classification',\n",
    "    x_col = 'image',\n",
    "    y_col = class_col,\n",
    "    target_size = (112, 112),\n",
    "    color_mode='rgb',\n",
    "    class_mode='raw',\n",
    "    batch_size=batch_size,\n",
    "    seed=42)\n",
    "\n",
    "val_generator = val_datagen.flow_from_dataframe(\n",
    "    dataframe=val_df,\n",
    "    directory='C:/Work/1stDL/Roadbook_DeepLearning-master/TF_2.5v/code/clothes_classification',\n",
    "    x_col = 'image',\n",
    "    y_col = class_col,\n",
    "    target_size = (112, 112),\n",
    "    color_mode = 'rgb',\n",
    "    class_mode='raw',\n",
    "    batch_size=batch_size,\n",
    "    shuffle=True)"
   ]
  },
  {
   "cell_type": "code",
   "execution_count": 34,
   "metadata": {},
   "outputs": [
    {
     "name": "stderr",
     "output_type": "stream",
     "text": [
      "C:\\Users\\human\\AppData\\Roaming\\Python\\Python312\\site-packages\\keras\\src\\trainers\\data_adapters\\py_dataset_adapter.py:121: UserWarning: Your `PyDataset` class should call `super().__init__(**kwargs)` in its constructor. `**kwargs` can include `workers`, `use_multiprocessing`, `max_queue_size`. Do not pass these arguments to `fit()`, as they will be ignored.\n",
      "  self._warn_if_super_not_called()\n"
     ]
    },
    {
     "name": "stdout",
     "output_type": "stream",
     "text": [
      "Epoch 1/10\n",
      "\u001b[1m175/175\u001b[0m \u001b[32m━━━━━━━━━━━━━━━━━━━━\u001b[0m\u001b[37m\u001b[0m \u001b[1m31s\u001b[0m 178ms/step - acc: 0.5474 - loss: 0.2125 - val_acc: 0.5968 - val_loss: 0.2362\n",
      "Epoch 2/10\n",
      "\u001b[1m175/175\u001b[0m \u001b[32m━━━━━━━━━━━━━━━━━━━━\u001b[0m\u001b[37m\u001b[0m \u001b[1m0s\u001b[0m 177us/step - acc: 0.0000e+00 - loss: 0.0000e+00\n",
      "Epoch 3/10\n",
      "\u001b[1m  1/175\u001b[0m \u001b[37m━━━━━━━━━━━━━━━━━━━━\u001b[0m \u001b[1m28s\u001b[0m 163ms/step - acc: 0.6875 - loss: 0.1863"
     ]
    },
    {
     "name": "stderr",
     "output_type": "stream",
     "text": [
      "c:\\Dev\\Anaconda3\\Lib\\contextlib.py:158: UserWarning: Your input ran out of data; interrupting training. Make sure that your dataset or generator can generate at least `steps_per_epoch * epochs` batches. You may need to use the `.repeat()` function when building your dataset.\n",
      "  self.gen.throw(value)\n"
     ]
    },
    {
     "name": "stdout",
     "output_type": "stream",
     "text": [
      "\u001b[1m175/175\u001b[0m \u001b[32m━━━━━━━━━━━━━━━━━━━━\u001b[0m\u001b[37m\u001b[0m \u001b[1m32s\u001b[0m 184ms/step - acc: 0.5517 - loss: 0.1962 - val_acc: 0.5784 - val_loss: 0.2103\n",
      "Epoch 4/10\n",
      "\u001b[1m175/175\u001b[0m \u001b[32m━━━━━━━━━━━━━━━━━━━━\u001b[0m\u001b[37m\u001b[0m \u001b[1m0s\u001b[0m 171us/step - acc: 0.0000e+00 - loss: 0.0000e+00\n",
      "Epoch 5/10\n",
      "\u001b[1m175/175\u001b[0m \u001b[32m━━━━━━━━━━━━━━━━━━━━\u001b[0m\u001b[37m\u001b[0m \u001b[1m30s\u001b[0m 173ms/step - acc: 0.5852 - loss: 0.1776 - val_acc: 0.5086 - val_loss: 0.2084\n",
      "Epoch 6/10\n",
      "\u001b[1m175/175\u001b[0m \u001b[32m━━━━━━━━━━━━━━━━━━━━\u001b[0m\u001b[37m\u001b[0m \u001b[1m0s\u001b[0m 183us/step - acc: 0.0000e+00 - loss: 0.0000e+00\n",
      "Epoch 7/10\n",
      "\u001b[1m175/175\u001b[0m \u001b[32m━━━━━━━━━━━━━━━━━━━━\u001b[0m\u001b[37m\u001b[0m \u001b[1m31s\u001b[0m 178ms/step - acc: 0.5801 - loss: 0.1735 - val_acc: 0.6763 - val_loss: 0.2032\n",
      "Epoch 8/10\n",
      "\u001b[1m175/175\u001b[0m \u001b[32m━━━━━━━━━━━━━━━━━━━━\u001b[0m\u001b[37m\u001b[0m \u001b[1m0s\u001b[0m 171us/step - acc: 0.0000e+00 - loss: 0.0000e+00\n",
      "Epoch 9/10\n",
      "\u001b[1m175/175\u001b[0m \u001b[32m━━━━━━━━━━━━━━━━━━━━\u001b[0m\u001b[37m\u001b[0m \u001b[1m31s\u001b[0m 177ms/step - acc: 0.5759 - loss: 0.1754 - val_acc: 0.6228 - val_loss: 0.2454\n",
      "Epoch 10/10\n",
      "\u001b[1m175/175\u001b[0m \u001b[32m━━━━━━━━━━━━━━━━━━━━\u001b[0m\u001b[37m\u001b[0m \u001b[1m0s\u001b[0m 201us/step - acc: 0.0000e+00 - loss: 0.0000e+00\n"
     ]
    },
    {
     "data": {
      "text/plain": [
       "<keras.src.callbacks.history.History at 0x1bddf6be150>"
      ]
     },
     "execution_count": 34,
     "metadata": {},
     "output_type": "execute_result"
    }
   ],
   "source": [
    "# 제네레이터를 통해 모델 학습시키기\n",
    "model.fit(train_generator, \n",
    "          steps_per_epoch=get_steps(len(train_df), batch_size), validation_data = val_generator, \n",
    "          validation_steps=get_steps(len(val_df), batch_size), epochs=10)"
   ]
  },
  {
   "cell_type": "code",
   "execution_count": 35,
   "metadata": {},
   "outputs": [
    {
     "name": "stdout",
     "output_type": "stream",
     "text": [
      "Found 0 validated image filenames.\n"
     ]
    },
    {
     "name": "stderr",
     "output_type": "stream",
     "text": [
      "C:\\Users\\human\\AppData\\Roaming\\Python\\Python312\\site-packages\\keras\\src\\legacy\\preprocessing\\image.py:920: UserWarning: Found 3416 invalid image filename(s) in x_col=\"image\". These filename(s) will be ignored.\n",
      "  warnings.warn(\n"
     ]
    }
   ],
   "source": [
    "test_datagen = ImageDataGenerator(rescale = 1./255)\n",
    "\n",
    "# y_col: None, class_mode: None이므로\n",
    "# test_generator는 image만 반환하고, label은 반환하지 않습니다.\n",
    "test_generator = test_datagen.flow_from_dataframe(\n",
    "    dataframe=test_df, \n",
    "    directory=None,\n",
    "    x_col = 'image',\n",
    "    y_col = None,\n",
    "    target_size = (112, 112),\n",
    "    color_mode='rgb',\n",
    "    class_mode=None,\n",
    "    batch_size=batch_size,\n",
    "    shuffle = False\n",
    ")"
   ]
  },
  {
   "cell_type": "code",
   "execution_count": 36,
   "metadata": {},
   "outputs": [
    {
     "name": "stdout",
     "output_type": "stream",
     "text": [
      "\u001b[1m3416/3416\u001b[0m \u001b[32m━━━━━━━━━━━━━━━━━━━━\u001b[0m\u001b[37m\u001b[0m \u001b[1m4s\u001b[0m 1ms/step\n",
      "예측 형태: (0, 11)\n"
     ]
    }
   ],
   "source": [
    "# 해당 셀의 소스는 책에 있는게 계속 에러나서 강사님께서 직접 짜주심\n",
    "\n",
    "def reshape_generator(generator):\n",
    "    for batch in generator:\n",
    "        yield (batch,)  # 튜플로 감싸서 반환\n",
    "\n",
    "\n",
    "\n",
    "try:\n",
    "    reshaped_generator = reshape_generator(test_generator)\n",
    "    preds = model.predict(\n",
    "        reshaped_generator,\n",
    "        steps=len(test_df),\n",
    "        verbose=1\n",
    "    )\n",
    "    print(\"예측 형태:\", preds.shape)\n",
    "except Exception as e:\n",
    "    print(\"오류 발생:\", str(e))\n",
    "    \n",
    "    # 추가 디버깅 정보\n",
    "    batch = next(iter(test_generator))\n",
    "    print(\"배치 형태:\", batch.shape)\n",
    "    print(\"배치 데이터 타입:\", batch.dtype)"
   ]
  },
  {
   "cell_type": "code",
   "execution_count": 37,
   "metadata": {},
   "outputs": [
    {
     "data": {
      "text/plain": [
       "<Figure size 640x480 with 0 Axes>"
      ]
     },
     "metadata": {},
     "output_type": "display_data"
    }
   ],
   "source": [
    "# 테스트 데이터 예측하기\n",
    "import matplotlib.pyplot as plt\n",
    "import cv2\n",
    "\n",
    "do_preds = preds[:8]\n",
    "\n",
    "for i, pred in enumerate(do_preds):\n",
    "    plt.subplot(2, 4, i+1)\n",
    "    prob = zip(class_col, list(pred))\n",
    "    prob = sorted(list(prob), key=lambda z: z[1], reverse = True)[:2]\n",
    "\n",
    "    image = cv2.imread(test_df['image'][i])\n",
    "    image = cv2.cvtColor(image, cv2.COLOR_BGR2RGB)\n",
    "\n",
    "    plt.imshow(image)\n",
    "    plt.title(f'{prob[0][0]}: {round(prob[0][1] * 100, 2)}% /n {prob[1][0]}: {round(prob[1][1] * 100, 2)}%')\n",
    "    \n",
    "plt.tight_layout()"
   ]
  },
  {
   "cell_type": "code",
   "execution_count": null,
   "metadata": {},
   "outputs": [],
   "source": []
  }
 ],
 "metadata": {
  "kernelspec": {
   "display_name": "keras_study",
   "language": "python",
   "name": "keras_study"
  },
  "language_info": {
   "codemirror_mode": {
    "name": "ipython",
    "version": 3
   },
   "file_extension": ".py",
   "mimetype": "text/x-python",
   "name": "python",
   "nbconvert_exporter": "python",
   "pygments_lexer": "ipython3",
   "version": "3.12.4"
  }
 },
 "nbformat": 4,
 "nbformat_minor": 2
}
