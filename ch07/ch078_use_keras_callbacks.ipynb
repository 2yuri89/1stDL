{
 "cells": [
  {
   "cell_type": "code",
   "execution_count": 5,
   "metadata": {},
   "outputs": [],
   "source": [
    "# 케라스 콜백 사용 준비하기\n",
    "\n",
    "from tensorflow.keras.datasets import mnist\n",
    "import tensorflow as tf\n",
    "import numpy as np\n",
    "\n",
    "# 텐서플로우 저장소에서 데이터를 다운로드 받습니다.\n",
    "(x_train, y_train), (x_test, y_test) = mnist.load_data(path = 'mnist.npz')\n",
    "\n",
    "from sklearn.model_selection import train_test_split\n",
    "\n",
    "# 훈련/검증 데이터를 얻기 위해 0.7/0.3의 비율로 분리합니다.\n",
    "x_train, x_val, y_train, y_val = train_test_split(x_train, y_train,\n",
    "                                                  test_size=0.3, random_state=777)\n",
    "\n",
    "num_x_train = x_train.shape[0]\n",
    "num_x_val = x_val.shape[0]\n",
    "num_x_test = x_test.shape[0]\n",
    "\n",
    "# 모델의 입력으로 사용하기 위한 전처리 과정입니다.\n",
    "x_train = (x_train.reshape(-1, 28, 28, 1))\n",
    "x_val = (x_val.reshape(-1, 28, 28, 1))\n",
    "x_test = (x_test.reshape(-1, 28, 28, 1))\n",
    "\n",
    "ce_layer = tf.keras.layers.CategoryEncoding(num_tokens=np.unique(y_train).__len__(),\n",
    "                                            output_mode=\"one_hot\")\n",
    "\n",
    "# 각 데이터의 레이블을 범주형 형태로 변경합니다.\n",
    "y_train = ce_layer(list(y_train))\n",
    "y_val = ce_layer(list(y_val))\n",
    "y_test = ce_layer(list(y_test))\n",
    "\n",
    "from tensorflow.keras.models import Model\n",
    "from tensorflow.keras.layers import Conv2D, MaxPooling2D, GlobalAveragePooling2D, Dense\n",
    "from tensorflow.keras.layers import Input\n",
    "\n",
    "rescale_layer = tf.keras.layers.Rescaling(scale = 1./255)\n",
    "\n",
    "# 함수형 API는 Input()을 통해 입력값의 형태를 정의해주어야 합니다.\n",
    "inputs = Input(shape = (28, 28, 1))\n",
    "x = rescale_layer(inputs)\n",
    "x = Conv2D(32, (3, 3), activation = 'relu')(x)\n",
    "x = Conv2D(32, (3, 3), activation = 'relu')(x)\n",
    "x = MaxPooling2D(strides = 2)(x)\n",
    "x = GlobalAveragePooling2D()(x)\n",
    "x = Dense(10, activation = 'softmax')(x)\n",
    "\n",
    "# 위에서 정의한 층을 포함하고 있는 모델을 생성합니다.\n",
    "model = Model(inputs = inputs, outputs = x)\n",
    "\n",
    "model.compile(optimizer = 'adam',\n",
    "              loss = 'categorical_crossentropy',\n",
    "              metrics = ['acc'])\n"
   ]
  },
  {
   "cell_type": "code",
   "execution_count": 8,
   "metadata": {},
   "outputs": [
    {
     "name": "stdout",
     "output_type": "stream",
     "text": [
      "Epoch 1/10\n",
      "\u001b[1m1312/1313\u001b[0m \u001b[32m━━━━━━━━━━━━━━━━━━━\u001b[0m\u001b[37m━\u001b[0m \u001b[1m0s\u001b[0m 15ms/step - acc: 0.2701 - loss: 1.9731\n",
      "Epoch 1: val_loss improved from inf to 1.40281, saving model to ./best_model.keras\n",
      "\u001b[1m1313/1313\u001b[0m \u001b[32m━━━━━━━━━━━━━━━━━━━━\u001b[0m\u001b[37m\u001b[0m \u001b[1m30s\u001b[0m 18ms/step - acc: 0.2703 - loss: 1.9727 - val_acc: 0.4817 - val_loss: 1.4028\n",
      "Epoch 2/10\n",
      "\u001b[1m1310/1313\u001b[0m \u001b[32m━━━━━━━━━━━━━━━━━━━\u001b[0m\u001b[37m━\u001b[0m \u001b[1m0s\u001b[0m 15ms/step - acc: 0.5323 - loss: 1.3227\n",
      "Epoch 2: val_loss improved from 1.40281 to 1.15006, saving model to ./best_model.keras\n",
      "\u001b[1m1313/1313\u001b[0m \u001b[32m━━━━━━━━━━━━━━━━━━━━\u001b[0m\u001b[37m\u001b[0m \u001b[1m24s\u001b[0m 18ms/step - acc: 0.5324 - loss: 1.3225 - val_acc: 0.6158 - val_loss: 1.1501\n",
      "Epoch 3/10\n",
      "\u001b[1m1310/1313\u001b[0m \u001b[32m━━━━━━━━━━━━━━━━━━━\u001b[0m\u001b[37m━\u001b[0m \u001b[1m0s\u001b[0m 15ms/step - acc: 0.6486 - loss: 1.0883\n",
      "Epoch 3: val_loss improved from 1.15006 to 0.95670, saving model to ./best_model.keras\n",
      "\u001b[1m1313/1313\u001b[0m \u001b[32m━━━━━━━━━━━━━━━━━━━━\u001b[0m\u001b[37m\u001b[0m \u001b[1m24s\u001b[0m 18ms/step - acc: 0.6487 - loss: 1.0882 - val_acc: 0.7031 - val_loss: 0.9567\n",
      "Epoch 4/10\n",
      "\u001b[1m1310/1313\u001b[0m \u001b[32m━━━━━━━━━━━━━━━━━━━\u001b[0m\u001b[37m━\u001b[0m \u001b[1m0s\u001b[0m 16ms/step - acc: 0.7140 - loss: 0.9245\n",
      "Epoch 4: val_loss improved from 0.95670 to 0.81619, saving model to ./best_model.keras\n",
      "\u001b[1m1313/1313\u001b[0m \u001b[32m━━━━━━━━━━━━━━━━━━━━\u001b[0m\u001b[37m\u001b[0m \u001b[1m25s\u001b[0m 19ms/step - acc: 0.7141 - loss: 0.9243 - val_acc: 0.7464 - val_loss: 0.8162\n",
      "Epoch 5/10\n",
      "\u001b[1m1310/1313\u001b[0m \u001b[32m━━━━━━━━━━━━━━━━━━━\u001b[0m\u001b[37m━\u001b[0m \u001b[1m0s\u001b[0m 16ms/step - acc: 0.7707 - loss: 0.7646\n",
      "Epoch 5: val_loss improved from 0.81619 to 0.66363, saving model to ./best_model.keras\n",
      "\u001b[1m1313/1313\u001b[0m \u001b[32m━━━━━━━━━━━━━━━━━━━━\u001b[0m\u001b[37m\u001b[0m \u001b[1m25s\u001b[0m 19ms/step - acc: 0.7707 - loss: 0.7645 - val_acc: 0.8082 - val_loss: 0.6636\n",
      "Epoch 6/10\n",
      "\u001b[1m1311/1313\u001b[0m \u001b[32m━━━━━━━━━━━━━━━━━━━\u001b[0m\u001b[37m━\u001b[0m \u001b[1m0s\u001b[0m 14ms/step - acc: 0.8113 - loss: 0.6480\n",
      "Epoch 6: val_loss improved from 0.66363 to 0.62276, saving model to ./best_model.keras\n",
      "\u001b[1m1313/1313\u001b[0m \u001b[32m━━━━━━━━━━━━━━━━━━━━\u001b[0m\u001b[37m\u001b[0m \u001b[1m22s\u001b[0m 17ms/step - acc: 0.8113 - loss: 0.6479 - val_acc: 0.8049 - val_loss: 0.6228\n",
      "Epoch 7/10\n",
      "\u001b[1m1310/1313\u001b[0m \u001b[32m━━━━━━━━━━━━━━━━━━━\u001b[0m\u001b[37m━\u001b[0m \u001b[1m0s\u001b[0m 14ms/step - acc: 0.8331 - loss: 0.5711\n",
      "Epoch 7: val_loss improved from 0.62276 to 0.52451, saving model to ./best_model.keras\n",
      "\u001b[1m1313/1313\u001b[0m \u001b[32m━━━━━━━━━━━━━━━━━━━━\u001b[0m\u001b[37m\u001b[0m \u001b[1m22s\u001b[0m 16ms/step - acc: 0.8331 - loss: 0.5710 - val_acc: 0.8441 - val_loss: 0.5245\n",
      "Epoch 8/10\n",
      "\u001b[1m1306/1313\u001b[0m \u001b[32m━━━━━━━━━━━━━━━━━━━\u001b[0m\u001b[37m━\u001b[0m \u001b[1m0s\u001b[0m 12ms/step - acc: 0.8436 - loss: 0.5107\n",
      "Epoch 8: val_loss improved from 0.52451 to 0.47178, saving model to ./best_model.keras\n",
      "\u001b[1m1313/1313\u001b[0m \u001b[32m━━━━━━━━━━━━━━━━━━━━\u001b[0m\u001b[37m\u001b[0m \u001b[1m17s\u001b[0m 13ms/step - acc: 0.8436 - loss: 0.5106 - val_acc: 0.8636 - val_loss: 0.4718\n",
      "Epoch 9/10\n",
      "\u001b[1m1310/1313\u001b[0m \u001b[32m━━━━━━━━━━━━━━━━━━━\u001b[0m\u001b[37m━\u001b[0m \u001b[1m0s\u001b[0m 8ms/step - acc: 0.8589 - loss: 0.4669\n",
      "Epoch 9: val_loss improved from 0.47178 to 0.46291, saving model to ./best_model.keras\n",
      "\u001b[1m1313/1313\u001b[0m \u001b[32m━━━━━━━━━━━━━━━━━━━━\u001b[0m\u001b[37m\u001b[0m \u001b[1m12s\u001b[0m 9ms/step - acc: 0.8589 - loss: 0.4669 - val_acc: 0.8607 - val_loss: 0.4629\n",
      "Epoch 10/10\n",
      "\u001b[1m1309/1313\u001b[0m \u001b[32m━━━━━━━━━━━━━━━━━━━\u001b[0m\u001b[37m━\u001b[0m \u001b[1m0s\u001b[0m 13ms/step - acc: 0.8658 - loss: 0.4398\n",
      "Epoch 10: val_loss improved from 0.46291 to 0.42143, saving model to ./best_model.keras\n",
      "\u001b[1m1313/1313\u001b[0m \u001b[32m━━━━━━━━━━━━━━━━━━━━\u001b[0m\u001b[37m\u001b[0m \u001b[1m21s\u001b[0m 16ms/step - acc: 0.8658 - loss: 0.4398 - val_acc: 0.8758 - val_loss: 0.4214\n"
     ]
    },
    {
     "data": {
      "text/plain": [
       "<keras.src.callbacks.history.History at 0x1e7718b8590>"
      ]
     },
     "execution_count": 8,
     "metadata": {},
     "output_type": "execute_result"
    }
   ],
   "source": [
    "# ModelCheckpoint 콜백 사용하기\n",
    "\n",
    "from tensorflow.keras.callbacks import ModelCheckpoint\n",
    "\n",
    "filepath = './best_model.keras'\n",
    "\n",
    "# 콜백을 정의합니다.\n",
    "callbacks = [ModelCheckpoint(filepath = filepath, monitor = 'val_loss', verbose = 1, save_best_only = True)]\n",
    "\n",
    "# callbacks 인자를 통해 정의한 콜백을 전달합니다.\n",
    "model.fit(x_train, y_train,\n",
    "          batch_size = 32,\n",
    "          validation_data = (x_val, y_val),\n",
    "          epochs = 10,\n",
    "          callbacks = callbacks)"
   ]
  },
  {
   "cell_type": "code",
   "execution_count": 9,
   "metadata": {},
   "outputs": [
    {
     "name": "stdout",
     "output_type": "stream",
     "text": [
      "Epoch 1/30\n",
      "\u001b[1m1313/1313\u001b[0m \u001b[32m━━━━━━━━━━━━━━━━━━━━\u001b[0m\u001b[37m\u001b[0m \u001b[1m13s\u001b[0m 10ms/step - acc: 0.8744 - loss: 0.4093 - val_acc: 0.8768 - val_loss: 0.4126\n",
      "Epoch 2/30\n",
      "\u001b[1m1313/1313\u001b[0m \u001b[32m━━━━━━━━━━━━━━━━━━━━\u001b[0m\u001b[37m\u001b[0m \u001b[1m12s\u001b[0m 9ms/step - acc: 0.8816 - loss: 0.3983 - val_acc: 0.8816 - val_loss: 0.4007\n",
      "Epoch 3/30\n",
      "\u001b[1m1313/1313\u001b[0m \u001b[32m━━━━━━━━━━━━━━━━━━━━\u001b[0m\u001b[37m\u001b[0m \u001b[1m12s\u001b[0m 9ms/step - acc: 0.8824 - loss: 0.3871 - val_acc: 0.8914 - val_loss: 0.3727\n",
      "Epoch 4/30\n",
      "\u001b[1m1313/1313\u001b[0m \u001b[32m━━━━━━━━━━━━━━━━━━━━\u001b[0m\u001b[37m\u001b[0m \u001b[1m20s\u001b[0m 15ms/step - acc: 0.8854 - loss: 0.3720 - val_acc: 0.8913 - val_loss: 0.3601\n",
      "Epoch 5/30\n",
      "\u001b[1m1313/1313\u001b[0m \u001b[32m━━━━━━━━━━━━━━━━━━━━\u001b[0m\u001b[37m\u001b[0m \u001b[1m23s\u001b[0m 17ms/step - acc: 0.8919 - loss: 0.3527 - val_acc: 0.9001 - val_loss: 0.3377\n",
      "Epoch 6/30\n",
      "\u001b[1m1313/1313\u001b[0m \u001b[32m━━━━━━━━━━━━━━━━━━━━\u001b[0m\u001b[37m\u001b[0m \u001b[1m22s\u001b[0m 17ms/step - acc: 0.8931 - loss: 0.3497 - val_acc: 0.8987 - val_loss: 0.3389\n",
      "Epoch 7/30\n",
      "\u001b[1m1313/1313\u001b[0m \u001b[32m━━━━━━━━━━━━━━━━━━━━\u001b[0m\u001b[37m\u001b[0m \u001b[1m23s\u001b[0m 17ms/step - acc: 0.8984 - loss: 0.3389 - val_acc: 0.9094 - val_loss: 0.3052\n",
      "Epoch 8/30\n",
      "\u001b[1m1313/1313\u001b[0m \u001b[32m━━━━━━━━━━━━━━━━━━━━\u001b[0m\u001b[37m\u001b[0m \u001b[1m15s\u001b[0m 11ms/step - acc: 0.8996 - loss: 0.3263 - val_acc: 0.8882 - val_loss: 0.3510\n",
      "Epoch 9/30\n",
      "\u001b[1m1313/1313\u001b[0m \u001b[32m━━━━━━━━━━━━━━━━━━━━\u001b[0m\u001b[37m\u001b[0m \u001b[1m15s\u001b[0m 11ms/step - acc: 0.9099 - loss: 0.3007 - val_acc: 0.9147 - val_loss: 0.2870\n",
      "Epoch 10/30\n",
      "\u001b[1m1313/1313\u001b[0m \u001b[32m━━━━━━━━━━━━━━━━━━━━\u001b[0m\u001b[37m\u001b[0m \u001b[1m23s\u001b[0m 17ms/step - acc: 0.9067 - loss: 0.3041 - val_acc: 0.9152 - val_loss: 0.2848\n",
      "Epoch 11/30\n",
      "\u001b[1m1313/1313\u001b[0m \u001b[32m━━━━━━━━━━━━━━━━━━━━\u001b[0m\u001b[37m\u001b[0m \u001b[1m24s\u001b[0m 18ms/step - acc: 0.9106 - loss: 0.2929 - val_acc: 0.9079 - val_loss: 0.3054\n",
      "Epoch 12/30\n",
      "\u001b[1m1313/1313\u001b[0m \u001b[32m━━━━━━━━━━━━━━━━━━━━\u001b[0m\u001b[37m\u001b[0m \u001b[1m22s\u001b[0m 16ms/step - acc: 0.9194 - loss: 0.2701 - val_acc: 0.9151 - val_loss: 0.2754\n",
      "Epoch 13/30\n",
      "\u001b[1m1313/1313\u001b[0m \u001b[32m━━━━━━━━━━━━━━━━━━━━\u001b[0m\u001b[37m\u001b[0m \u001b[1m21s\u001b[0m 16ms/step - acc: 0.9173 - loss: 0.2680 - val_acc: 0.9237 - val_loss: 0.2559\n",
      "Epoch 14/30\n",
      "\u001b[1m1313/1313\u001b[0m \u001b[32m━━━━━━━━━━━━━━━━━━━━\u001b[0m\u001b[37m\u001b[0m \u001b[1m35s\u001b[0m 11ms/step - acc: 0.9229 - loss: 0.2525 - val_acc: 0.9234 - val_loss: 0.2509\n",
      "Epoch 15/30\n",
      "\u001b[1m1313/1313\u001b[0m \u001b[32m━━━━━━━━━━━━━━━━━━━━\u001b[0m\u001b[37m\u001b[0m \u001b[1m21s\u001b[0m 16ms/step - acc: 0.9222 - loss: 0.2560 - val_acc: 0.9181 - val_loss: 0.2699\n",
      "Epoch 16/30\n",
      "\u001b[1m1313/1313\u001b[0m \u001b[32m━━━━━━━━━━━━━━━━━━━━\u001b[0m\u001b[37m\u001b[0m \u001b[1m22s\u001b[0m 17ms/step - acc: 0.9249 - loss: 0.2479 - val_acc: 0.9299 - val_loss: 0.2342\n",
      "Epoch 17/30\n",
      "\u001b[1m1313/1313\u001b[0m \u001b[32m━━━━━━━━━━━━━━━━━━━━\u001b[0m\u001b[37m\u001b[0m \u001b[1m20s\u001b[0m 15ms/step - acc: 0.9289 - loss: 0.2297 - val_acc: 0.9238 - val_loss: 0.2456\n",
      "Epoch 18/30\n",
      "\u001b[1m1313/1313\u001b[0m \u001b[32m━━━━━━━━━━━━━━━━━━━━\u001b[0m\u001b[37m\u001b[0m \u001b[1m19s\u001b[0m 14ms/step - acc: 0.9309 - loss: 0.2274 - val_acc: 0.9298 - val_loss: 0.2249\n",
      "Epoch 19/30\n",
      "\u001b[1m1313/1313\u001b[0m \u001b[32m━━━━━━━━━━━━━━━━━━━━\u001b[0m\u001b[37m\u001b[0m \u001b[1m21s\u001b[0m 15ms/step - acc: 0.9316 - loss: 0.2274 - val_acc: 0.9241 - val_loss: 0.2461\n",
      "Epoch 20/30\n",
      "\u001b[1m1313/1313\u001b[0m \u001b[32m━━━━━━━━━━━━━━━━━━━━\u001b[0m\u001b[37m\u001b[0m \u001b[1m23s\u001b[0m 18ms/step - acc: 0.9316 - loss: 0.2162 - val_acc: 0.9329 - val_loss: 0.2180\n",
      "Epoch 21/30\n",
      "\u001b[1m1313/1313\u001b[0m \u001b[32m━━━━━━━━━━━━━━━━━━━━\u001b[0m\u001b[37m\u001b[0m \u001b[1m24s\u001b[0m 18ms/step - acc: 0.9333 - loss: 0.2175 - val_acc: 0.9246 - val_loss: 0.2435\n",
      "Epoch 22/30\n",
      "\u001b[1m1313/1313\u001b[0m \u001b[32m━━━━━━━━━━━━━━━━━━━━\u001b[0m\u001b[37m\u001b[0m \u001b[1m41s\u001b[0m 18ms/step - acc: 0.9366 - loss: 0.2101 - val_acc: 0.9344 - val_loss: 0.2194\n",
      "Epoch 23/30\n",
      "\u001b[1m1313/1313\u001b[0m \u001b[32m━━━━━━━━━━━━━━━━━━━━\u001b[0m\u001b[37m\u001b[0m \u001b[1m16s\u001b[0m 12ms/step - acc: 0.9365 - loss: 0.2050 - val_acc: 0.9264 - val_loss: 0.2311\n",
      "Epoch 23: early stopping\n"
     ]
    },
    {
     "data": {
      "text/plain": [
       "<keras.src.callbacks.history.History at 0x1e779322540>"
      ]
     },
     "execution_count": 9,
     "metadata": {},
     "output_type": "execute_result"
    }
   ],
   "source": [
    "# EarlyStopping 콜백 사용하기\n",
    "\n",
    "from tensorflow.keras.callbacks import EarlyStopping\n",
    "\n",
    "# 콜백을 정의합니다.\n",
    "callbacks = [EarlyStopping(monitor = 'val_loss', patience = 3, verbose = 1)]\n",
    "\n",
    "# callbacks  인자를 통해 정의한 콜백을 전달합니다.\n",
    "model.fit(x_train, y_train,\n",
    "          batch_size = 32,\n",
    "          validation_data = (x_val, y_val),\n",
    "          epochs = 30,\n",
    "          callbacks = callbacks)"
   ]
  },
  {
   "cell_type": "code",
   "execution_count": 11,
   "metadata": {},
   "outputs": [
    {
     "name": "stdout",
     "output_type": "stream",
     "text": [
      "Epoch 1/50\n",
      "\u001b[1m1313/1313\u001b[0m \u001b[32m━━━━━━━━━━━━━━━━━━━━\u001b[0m\u001b[37m\u001b[0m \u001b[1m23s\u001b[0m 17ms/step - acc: 0.9377 - loss: 0.2055 - val_acc: 0.9312 - val_loss: 0.2203 - learning_rate: 0.0010\n",
      "Epoch 2/50\n",
      "\u001b[1m1313/1313\u001b[0m \u001b[32m━━━━━━━━━━━━━━━━━━━━\u001b[0m\u001b[37m\u001b[0m \u001b[1m21s\u001b[0m 16ms/step - acc: 0.9381 - loss: 0.2009 - val_acc: 0.9350 - val_loss: 0.2084 - learning_rate: 0.0010\n",
      "Epoch 3/50\n",
      "\u001b[1m1313/1313\u001b[0m \u001b[32m━━━━━━━━━━━━━━━━━━━━\u001b[0m\u001b[37m\u001b[0m \u001b[1m23s\u001b[0m 18ms/step - acc: 0.9387 - loss: 0.1971 - val_acc: 0.9391 - val_loss: 0.2006 - learning_rate: 0.0010\n",
      "Epoch 4/50\n",
      "\u001b[1m1313/1313\u001b[0m \u001b[32m━━━━━━━━━━━━━━━━━━━━\u001b[0m\u001b[37m\u001b[0m \u001b[1m23s\u001b[0m 18ms/step - acc: 0.9385 - loss: 0.2001 - val_acc: 0.9282 - val_loss: 0.2265 - learning_rate: 0.0010\n",
      "Epoch 5/50\n",
      "\u001b[1m1313/1313\u001b[0m \u001b[32m━━━━━━━━━━━━━━━━━━━━\u001b[0m\u001b[37m\u001b[0m \u001b[1m23s\u001b[0m 17ms/step - acc: 0.9403 - loss: 0.1929 - val_acc: 0.9371 - val_loss: 0.1979 - learning_rate: 0.0010\n",
      "Epoch 6/50\n",
      "\u001b[1m1313/1313\u001b[0m \u001b[32m━━━━━━━━━━━━━━━━━━━━\u001b[0m\u001b[37m\u001b[0m \u001b[1m20s\u001b[0m 16ms/step - acc: 0.9389 - loss: 0.1981 - val_acc: 0.9309 - val_loss: 0.2202 - learning_rate: 0.0010\n",
      "Epoch 7/50\n",
      "\u001b[1m1313/1313\u001b[0m \u001b[32m━━━━━━━━━━━━━━━━━━━━\u001b[0m\u001b[37m\u001b[0m \u001b[1m20s\u001b[0m 15ms/step - acc: 0.9411 - loss: 0.1895 - val_acc: 0.9414 - val_loss: 0.1873 - learning_rate: 0.0010\n",
      "Epoch 8/50\n",
      "\u001b[1m1313/1313\u001b[0m \u001b[32m━━━━━━━━━━━━━━━━━━━━\u001b[0m\u001b[37m\u001b[0m \u001b[1m19s\u001b[0m 15ms/step - acc: 0.9443 - loss: 0.1855 - val_acc: 0.9423 - val_loss: 0.1892 - learning_rate: 0.0010\n",
      "Epoch 9/50\n",
      "\u001b[1m1313/1313\u001b[0m \u001b[32m━━━━━━━━━━━━━━━━━━━━\u001b[0m\u001b[37m\u001b[0m \u001b[1m14s\u001b[0m 10ms/step - acc: 0.9412 - loss: 0.1861 - val_acc: 0.9441 - val_loss: 0.1826 - learning_rate: 0.0010\n",
      "Epoch 10/50\n",
      "\u001b[1m1313/1313\u001b[0m \u001b[32m━━━━━━━━━━━━━━━━━━━━\u001b[0m\u001b[37m\u001b[0m \u001b[1m21s\u001b[0m 16ms/step - acc: 0.9425 - loss: 0.1849 - val_acc: 0.9394 - val_loss: 0.1951 - learning_rate: 0.0010\n",
      "Epoch 11/50\n",
      "\u001b[1m1313/1313\u001b[0m \u001b[32m━━━━━━━━━━━━━━━━━━━━\u001b[0m\u001b[37m\u001b[0m \u001b[1m23s\u001b[0m 17ms/step - acc: 0.9436 - loss: 0.1829 - val_acc: 0.9413 - val_loss: 0.1885 - learning_rate: 0.0010\n",
      "Epoch 12/50\n",
      "\u001b[1m1310/1313\u001b[0m \u001b[32m━━━━━━━━━━━━━━━━━━━\u001b[0m\u001b[37m━\u001b[0m \u001b[1m0s\u001b[0m 14ms/step - acc: 0.9452 - loss: 0.1817\n",
      "Epoch 12: ReduceLROnPlateau reducing learning rate to 0.00020000000949949026.\n",
      "\u001b[1m1313/1313\u001b[0m \u001b[32m━━━━━━━━━━━━━━━━━━━━\u001b[0m\u001b[37m\u001b[0m \u001b[1m23s\u001b[0m 18ms/step - acc: 0.9452 - loss: 0.1817 - val_acc: 0.9404 - val_loss: 0.1919 - learning_rate: 0.0010\n",
      "Epoch 13/50\n",
      "\u001b[1m1313/1313\u001b[0m \u001b[32m━━━━━━━━━━━━━━━━━━━━\u001b[0m\u001b[37m\u001b[0m \u001b[1m24s\u001b[0m 18ms/step - acc: 0.9503 - loss: 0.1643 - val_acc: 0.9475 - val_loss: 0.1691 - learning_rate: 2.0000e-04\n",
      "Epoch 14/50\n",
      "\u001b[1m1313/1313\u001b[0m \u001b[32m━━━━━━━━━━━━━━━━━━━━\u001b[0m\u001b[37m\u001b[0m \u001b[1m25s\u001b[0m 19ms/step - acc: 0.9498 - loss: 0.1644 - val_acc: 0.9473 - val_loss: 0.1700 - learning_rate: 2.0000e-04\n",
      "Epoch 15/50\n",
      "\u001b[1m1313/1313\u001b[0m \u001b[32m━━━━━━━━━━━━━━━━━━━━\u001b[0m\u001b[37m\u001b[0m \u001b[1m25s\u001b[0m 19ms/step - acc: 0.9511 - loss: 0.1579 - val_acc: 0.9477 - val_loss: 0.1705 - learning_rate: 2.0000e-04\n",
      "Epoch 16/50\n",
      "\u001b[1m1313/1313\u001b[0m \u001b[32m━━━━━━━━━━━━━━━━━━━━\u001b[0m\u001b[37m\u001b[0m \u001b[1m40s\u001b[0m 18ms/step - acc: 0.9504 - loss: 0.1645 - val_acc: 0.9476 - val_loss: 0.1686 - learning_rate: 2.0000e-04\n",
      "Epoch 17/50\n",
      "\u001b[1m1313/1313\u001b[0m \u001b[32m━━━━━━━━━━━━━━━━━━━━\u001b[0m\u001b[37m\u001b[0m \u001b[1m24s\u001b[0m 18ms/step - acc: 0.9517 - loss: 0.1597 - val_acc: 0.9479 - val_loss: 0.1697 - learning_rate: 2.0000e-04\n",
      "Epoch 18/50\n",
      "\u001b[1m1313/1313\u001b[0m \u001b[32m━━━━━━━━━━━━━━━━━━━━\u001b[0m\u001b[37m\u001b[0m \u001b[1m25s\u001b[0m 19ms/step - acc: 0.9546 - loss: 0.1543 - val_acc: 0.9467 - val_loss: 0.1766 - learning_rate: 2.0000e-04\n",
      "Epoch 19/50\n",
      "\u001b[1m1307/1313\u001b[0m \u001b[32m━━━━━━━━━━━━━━━━━━━\u001b[0m\u001b[37m━\u001b[0m \u001b[1m0s\u001b[0m 9ms/step - acc: 0.9511 - loss: 0.1594\n",
      "Epoch 19: ReduceLROnPlateau reducing learning rate to 4.0000001899898055e-05.\n",
      "\u001b[1m1313/1313\u001b[0m \u001b[32m━━━━━━━━━━━━━━━━━━━━\u001b[0m\u001b[37m\u001b[0m \u001b[1m14s\u001b[0m 11ms/step - acc: 0.9511 - loss: 0.1594 - val_acc: 0.9468 - val_loss: 0.1689 - learning_rate: 2.0000e-04\n",
      "Epoch 20/50\n",
      "\u001b[1m1313/1313\u001b[0m \u001b[32m━━━━━━━━━━━━━━━━━━━━\u001b[0m\u001b[37m\u001b[0m \u001b[1m23s\u001b[0m 17ms/step - acc: 0.9537 - loss: 0.1559 - val_acc: 0.9483 - val_loss: 0.1655 - learning_rate: 4.0000e-05\n",
      "Epoch 21/50\n",
      "\u001b[1m1313/1313\u001b[0m \u001b[32m━━━━━━━━━━━━━━━━━━━━\u001b[0m\u001b[37m\u001b[0m \u001b[1m24s\u001b[0m 18ms/step - acc: 0.9536 - loss: 0.1537 - val_acc: 0.9488 - val_loss: 0.1651 - learning_rate: 4.0000e-05\n",
      "Epoch 22/50\n",
      "\u001b[1m1313/1313\u001b[0m \u001b[32m━━━━━━━━━━━━━━━━━━━━\u001b[0m\u001b[37m\u001b[0m \u001b[1m25s\u001b[0m 19ms/step - acc: 0.9535 - loss: 0.1538 - val_acc: 0.9486 - val_loss: 0.1653 - learning_rate: 4.0000e-05\n",
      "Epoch 23/50\n",
      "\u001b[1m1313/1313\u001b[0m \u001b[32m━━━━━━━━━━━━━━━━━━━━\u001b[0m\u001b[37m\u001b[0m \u001b[1m22s\u001b[0m 16ms/step - acc: 0.9542 - loss: 0.1538 - val_acc: 0.9490 - val_loss: 0.1662 - learning_rate: 4.0000e-05\n",
      "Epoch 24/50\n",
      "\u001b[1m1310/1313\u001b[0m \u001b[32m━━━━━━━━━━━━━━━━━━━\u001b[0m\u001b[37m━\u001b[0m \u001b[1m0s\u001b[0m 15ms/step - acc: 0.9526 - loss: 0.1577\n",
      "Epoch 24: ReduceLROnPlateau reducing learning rate to 1e-05.\n",
      "\u001b[1m1313/1313\u001b[0m \u001b[32m━━━━━━━━━━━━━━━━━━━━\u001b[0m\u001b[37m\u001b[0m \u001b[1m23s\u001b[0m 18ms/step - acc: 0.9526 - loss: 0.1577 - val_acc: 0.9484 - val_loss: 0.1650 - learning_rate: 4.0000e-05\n",
      "Epoch 25/50\n",
      "\u001b[1m1313/1313\u001b[0m \u001b[32m━━━━━━━━━━━━━━━━━━━━\u001b[0m\u001b[37m\u001b[0m \u001b[1m22s\u001b[0m 17ms/step - acc: 0.9535 - loss: 0.1526 - val_acc: 0.9488 - val_loss: 0.1647 - learning_rate: 1.0000e-05\n",
      "Epoch 26/50\n",
      "\u001b[1m1313/1313\u001b[0m \u001b[32m━━━━━━━━━━━━━━━━━━━━\u001b[0m\u001b[37m\u001b[0m \u001b[1m21s\u001b[0m 16ms/step - acc: 0.9533 - loss: 0.1543 - val_acc: 0.9487 - val_loss: 0.1647 - learning_rate: 1.0000e-05\n",
      "Epoch 27/50\n",
      "\u001b[1m1313/1313\u001b[0m \u001b[32m━━━━━━━━━━━━━━━━━━━━\u001b[0m\u001b[37m\u001b[0m \u001b[1m21s\u001b[0m 16ms/step - acc: 0.9532 - loss: 0.1556 - val_acc: 0.9489 - val_loss: 0.1646 - learning_rate: 1.0000e-05\n",
      "Epoch 28/50\n",
      "\u001b[1m1313/1313\u001b[0m \u001b[32m━━━━━━━━━━━━━━━━━━━━\u001b[0m\u001b[37m\u001b[0m \u001b[1m22s\u001b[0m 16ms/step - acc: 0.9530 - loss: 0.1569 - val_acc: 0.9492 - val_loss: 0.1647 - learning_rate: 1.0000e-05\n",
      "Epoch 29/50\n",
      "\u001b[1m1313/1313\u001b[0m \u001b[32m━━━━━━━━━━━━━━━━━━━━\u001b[0m\u001b[37m\u001b[0m \u001b[1m21s\u001b[0m 16ms/step - acc: 0.9535 - loss: 0.1533 - val_acc: 0.9491 - val_loss: 0.1646 - learning_rate: 1.0000e-05\n",
      "Epoch 30/50\n",
      "\u001b[1m1313/1313\u001b[0m \u001b[32m━━━━━━━━━━━━━━━━━━━━\u001b[0m\u001b[37m\u001b[0m \u001b[1m21s\u001b[0m 16ms/step - acc: 0.9542 - loss: 0.1518 - val_acc: 0.9489 - val_loss: 0.1644 - learning_rate: 1.0000e-05\n",
      "Epoch 31/50\n",
      "\u001b[1m1313/1313\u001b[0m \u001b[32m━━━━━━━━━━━━━━━━━━━━\u001b[0m\u001b[37m\u001b[0m \u001b[1m21s\u001b[0m 16ms/step - acc: 0.9554 - loss: 0.1519 - val_acc: 0.9488 - val_loss: 0.1646 - learning_rate: 1.0000e-05\n",
      "Epoch 32/50\n",
      "\u001b[1m1313/1313\u001b[0m \u001b[32m━━━━━━━━━━━━━━━━━━━━\u001b[0m\u001b[37m\u001b[0m \u001b[1m21s\u001b[0m 16ms/step - acc: 0.9522 - loss: 0.1562 - val_acc: 0.9491 - val_loss: 0.1645 - learning_rate: 1.0000e-05\n",
      "Epoch 33/50\n",
      "\u001b[1m1313/1313\u001b[0m \u001b[32m━━━━━━━━━━━━━━━━━━━━\u001b[0m\u001b[37m\u001b[0m \u001b[1m21s\u001b[0m 16ms/step - acc: 0.9538 - loss: 0.1575 - val_acc: 0.9488 - val_loss: 0.1643 - learning_rate: 1.0000e-05\n",
      "Epoch 34/50\n",
      "\u001b[1m1313/1313\u001b[0m \u001b[32m━━━━━━━━━━━━━━━━━━━━\u001b[0m\u001b[37m\u001b[0m \u001b[1m12s\u001b[0m 9ms/step - acc: 0.9528 - loss: 0.1583 - val_acc: 0.9488 - val_loss: 0.1646 - learning_rate: 1.0000e-05\n",
      "Epoch 35/50\n",
      "\u001b[1m1313/1313\u001b[0m \u001b[32m━━━━━━━━━━━━━━━━━━━━\u001b[0m\u001b[37m\u001b[0m \u001b[1m11s\u001b[0m 8ms/step - acc: 0.9551 - loss: 0.1513 - val_acc: 0.9491 - val_loss: 0.1643 - learning_rate: 1.0000e-05\n",
      "Epoch 36/50\n",
      "\u001b[1m1313/1313\u001b[0m \u001b[32m━━━━━━━━━━━━━━━━━━━━\u001b[0m\u001b[37m\u001b[0m \u001b[1m11s\u001b[0m 9ms/step - acc: 0.9540 - loss: 0.1562 - val_acc: 0.9493 - val_loss: 0.1645 - learning_rate: 1.0000e-05\n",
      "Epoch 37/50\n",
      "\u001b[1m1313/1313\u001b[0m \u001b[32m━━━━━━━━━━━━━━━━━━━━\u001b[0m\u001b[37m\u001b[0m \u001b[1m11s\u001b[0m 8ms/step - acc: 0.9524 - loss: 0.1589 - val_acc: 0.9490 - val_loss: 0.1644 - learning_rate: 1.0000e-05\n",
      "Epoch 38/50\n",
      "\u001b[1m1313/1313\u001b[0m \u001b[32m━━━━━━━━━━━━━━━━━━━━\u001b[0m\u001b[37m\u001b[0m \u001b[1m11s\u001b[0m 8ms/step - acc: 0.9524 - loss: 0.1590 - val_acc: 0.9491 - val_loss: 0.1642 - learning_rate: 1.0000e-05\n",
      "Epoch 39/50\n",
      "\u001b[1m1313/1313\u001b[0m \u001b[32m━━━━━━━━━━━━━━━━━━━━\u001b[0m\u001b[37m\u001b[0m \u001b[1m11s\u001b[0m 9ms/step - acc: 0.9543 - loss: 0.1526 - val_acc: 0.9488 - val_loss: 0.1643 - learning_rate: 1.0000e-05\n",
      "Epoch 40/50\n",
      "\u001b[1m1313/1313\u001b[0m \u001b[32m━━━━━━━━━━━━━━━━━━━━\u001b[0m\u001b[37m\u001b[0m \u001b[1m11s\u001b[0m 9ms/step - acc: 0.9542 - loss: 0.1519 - val_acc: 0.9488 - val_loss: 0.1642 - learning_rate: 1.0000e-05\n",
      "Epoch 41/50\n",
      "\u001b[1m1313/1313\u001b[0m \u001b[32m━━━━━━━━━━━━━━━━━━━━\u001b[0m\u001b[37m\u001b[0m \u001b[1m11s\u001b[0m 9ms/step - acc: 0.9522 - loss: 0.1583 - val_acc: 0.9488 - val_loss: 0.1643 - learning_rate: 1.0000e-05\n",
      "Epoch 42/50\n",
      "\u001b[1m1313/1313\u001b[0m \u001b[32m━━━━━━━━━━━━━━━━━━━━\u001b[0m\u001b[37m\u001b[0m \u001b[1m12s\u001b[0m 9ms/step - acc: 0.9540 - loss: 0.1472 - val_acc: 0.9489 - val_loss: 0.1646 - learning_rate: 1.0000e-05\n",
      "Epoch 43/50\n",
      "\u001b[1m1313/1313\u001b[0m \u001b[32m━━━━━━━━━━━━━━━━━━━━\u001b[0m\u001b[37m\u001b[0m \u001b[1m11s\u001b[0m 9ms/step - acc: 0.9541 - loss: 0.1557 - val_acc: 0.9490 - val_loss: 0.1644 - learning_rate: 1.0000e-05\n",
      "Epoch 44/50\n",
      "\u001b[1m1313/1313\u001b[0m \u001b[32m━━━━━━━━━━━━━━━━━━━━\u001b[0m\u001b[37m\u001b[0m \u001b[1m11s\u001b[0m 9ms/step - acc: 0.9537 - loss: 0.1533 - val_acc: 0.9491 - val_loss: 0.1641 - learning_rate: 1.0000e-05\n",
      "Epoch 45/50\n",
      "\u001b[1m1313/1313\u001b[0m \u001b[32m━━━━━━━━━━━━━━━━━━━━\u001b[0m\u001b[37m\u001b[0m \u001b[1m11s\u001b[0m 9ms/step - acc: 0.9537 - loss: 0.1544 - val_acc: 0.9489 - val_loss: 0.1641 - learning_rate: 1.0000e-05\n",
      "Epoch 46/50\n",
      "\u001b[1m1313/1313\u001b[0m \u001b[32m━━━━━━━━━━━━━━━━━━━━\u001b[0m\u001b[37m\u001b[0m \u001b[1m11s\u001b[0m 8ms/step - acc: 0.9551 - loss: 0.1503 - val_acc: 0.9491 - val_loss: 0.1643 - learning_rate: 1.0000e-05\n",
      "Epoch 47/50\n",
      "\u001b[1m1313/1313\u001b[0m \u001b[32m━━━━━━━━━━━━━━━━━━━━\u001b[0m\u001b[37m\u001b[0m \u001b[1m11s\u001b[0m 9ms/step - acc: 0.9560 - loss: 0.1476 - val_acc: 0.9491 - val_loss: 0.1643 - learning_rate: 1.0000e-05\n",
      "Epoch 48/50\n",
      "\u001b[1m1313/1313\u001b[0m \u001b[32m━━━━━━━━━━━━━━━━━━━━\u001b[0m\u001b[37m\u001b[0m \u001b[1m11s\u001b[0m 9ms/step - acc: 0.9531 - loss: 0.1553 - val_acc: 0.9490 - val_loss: 0.1644 - learning_rate: 1.0000e-05\n",
      "Epoch 49/50\n",
      "\u001b[1m1313/1313\u001b[0m \u001b[32m━━━━━━━━━━━━━━━━━━━━\u001b[0m\u001b[37m\u001b[0m \u001b[1m11s\u001b[0m 9ms/step - acc: 0.9569 - loss: 0.1500 - val_acc: 0.9487 - val_loss: 0.1642 - learning_rate: 1.0000e-05\n",
      "Epoch 50/50\n",
      "\u001b[1m1313/1313\u001b[0m \u001b[32m━━━━━━━━━━━━━━━━━━━━\u001b[0m\u001b[37m\u001b[0m \u001b[1m11s\u001b[0m 9ms/step - acc: 0.9547 - loss: 0.1529 - val_acc: 0.9492 - val_loss: 0.1643 - learning_rate: 1.0000e-05\n"
     ]
    },
    {
     "data": {
      "text/plain": [
       "<keras.src.callbacks.history.History at 0x1e77569ebd0>"
      ]
     },
     "execution_count": 11,
     "metadata": {},
     "output_type": "execute_result"
    }
   ],
   "source": [
    "# ReduceLROnPlataeu 콜백 사용하기\n",
    "from tensorflow.keras.callbacks import ReduceLROnPlateau\n",
    "\n",
    "# 콜백 정의하기\n",
    "callbacks = [ReduceLROnPlateau(monitor = 'val_loss', patience = 3, factor = 0.2,\n",
    "                               verbose = 1, min_lr = 1e-5)]\n",
    "\n",
    "# callbacks 인자를 통해 정의한 콜백을 전달합니다.\n",
    "model.fit(x_train, y_train, \n",
    "          batch_size = 32,\n",
    "          validation_data = (x_val, y_val),\n",
    "          epochs = 50,\n",
    "          callbacks = callbacks)"
   ]
  },
  {
   "cell_type": "code",
   "execution_count": 12,
   "metadata": {},
   "outputs": [
    {
     "name": "stdout",
     "output_type": "stream",
     "text": [
      "\u001b[1m1313/1313\u001b[0m \u001b[32m━━━━━━━━━━━━━━━━━━━━\u001b[0m\u001b[37m\u001b[0m \u001b[1m14s\u001b[0m 10ms/step - acc: 0.9514 - loss: 0.1586 - val_acc: 0.9489 - val_loss: 0.1640\n",
      "WARNING:tensorflow:From C:\\Users\\human\\AppData\\Roaming\\Python\\Python312\\site-packages\\tensorboard\\plugins\\hparams\\summary.py:190: The name tf.Summary is deprecated. Please use tf.compat.v1.Summary instead.\n",
      "\n"
     ]
    },
    {
     "data": {
      "text/plain": [
       "<keras.src.callbacks.history.History at 0x1e70025e330>"
      ]
     },
     "execution_count": 12,
     "metadata": {},
     "output_type": "execute_result"
    }
   ],
   "source": [
    "# TensorBoard 콜백 사용하기\n",
    "\n",
    "from tensorflow.keras.callbacks import TensorBoard\n",
    "from tensorboard.plugins.hparams import api as hp\n",
    "\n",
    "logdir = './logs'\n",
    "\n",
    "# 콜백을 정의합니다.\n",
    "callbacks = [TensorBoard(log_dir = logdir, histogram_freq = 1,\n",
    "                         write_graph = True, write_images = True),\n",
    "                         hp.KerasCallback(logdir, {'num_filters':32})]\n",
    "\n",
    "# callbacks 인자를 통해 정의한 콜백을 전달합니다.\n",
    "model.fit(x_train, y_train,\n",
    "          batch_size = 32,\n",
    "          validation_data = (x_val, y_val),\n",
    "          epochs = 1,\n",
    "          callbacks = callbacks)"
   ]
  },
  {
   "cell_type": "code",
   "execution_count": 15,
   "metadata": {},
   "outputs": [
    {
     "name": "stderr",
     "output_type": "stream",
     "text": [
      "'tensorboard'��(��) ���� �Ǵ� �ܺ� ����, ������ �� �ִ� ���α׷�, �Ǵ�\n",
      "��ġ ������ �ƴմϴ�.\n"
     ]
    }
   ],
   "source": [
    "# Tensorboard 실행\n",
    "# auth, Refresh Error가 발생할 경우, 명령프롬프트 창에서 tensorboard dev upload --logdir ./logdir를 실행하고\n",
    "# 기기를 연결한뒤 후에 나오는 링크로 실험 결과를 확인할 수 있습니다.\n",
    "# Tensorboard dev는 public입니다. sensitive data 업로드는 경고됩니다.\n",
    "\n",
    "!tensorboard dev upload --logdir ./logs \\\n",
    "--name \"My test\" \\\n",
    "--description \"This is my first tensorboard\""
   ]
  },
  {
   "cell_type": "code",
   "execution_count": 16,
   "metadata": {},
   "outputs": [
    {
     "name": "stderr",
     "output_type": "stream",
     "text": [
      "'tensorboard'��(��) ���� �Ǵ� �ܺ� ����, ������ �� �ִ� ���α׷�, �Ǵ�\n",
      "��ġ ������ �ƴմϴ�.\n"
     ]
    }
   ],
   "source": [
    "# 아래 명령어를 실행하면 tensorboard에 upload한 실험을 확인할 수 있습니다.\n",
    "# 해당 링크를 따라가면 실험결과를 보여줍니다.\n",
    "!tensorboard dev list"
   ]
  },
  {
   "cell_type": "code",
   "execution_count": null,
   "metadata": {},
   "outputs": [],
   "source": []
  }
 ],
 "metadata": {
  "kernelspec": {
   "display_name": "keras_study",
   "language": "python",
   "name": "keras_study"
  },
  "language_info": {
   "codemirror_mode": {
    "name": "ipython",
    "version": 3
   },
   "file_extension": ".py",
   "mimetype": "text/x-python",
   "name": "python",
   "nbconvert_exporter": "python",
   "pygments_lexer": "ipython3",
   "version": "3.12.4"
  }
 },
 "nbformat": 4,
 "nbformat_minor": 2
}
